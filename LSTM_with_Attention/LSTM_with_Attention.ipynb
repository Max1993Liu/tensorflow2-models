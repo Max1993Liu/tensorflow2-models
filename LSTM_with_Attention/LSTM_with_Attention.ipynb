{
 "cells": [
  {
   "cell_type": "code",
   "execution_count": 11,
   "metadata": {},
   "outputs": [
    {
     "data": {
      "text/plain": [
       "'2.0.0-alpha0'"
      ]
     },
     "execution_count": 11,
     "metadata": {},
     "output_type": "execute_result"
    }
   ],
   "source": [
    "import tensorflow as tf\n",
    "tf.__version__"
   ]
  },
  {
   "cell_type": "code",
   "execution_count": null,
   "metadata": {},
   "outputs": [],
   "source": []
  },
  {
   "cell_type": "code",
   "execution_count": 234,
   "metadata": {},
   "outputs": [],
   "source": [
    "# A simple version of Attention\n",
    "from tensorflow import keras\n",
    "from tensorflow.keras import layers\n",
    "\n",
    "\n",
    "class Attention(keras.Model):\n",
    "    \"\"\"\n",
    "    Usage:\n",
    "        model = keras.models.Sequential()\n",
    "        model.add(LSTM(n_units, return_sequence=True))  # Set return_sequence to True\n",
    "        model.add(Attention())\n",
    "        model.add(Dense(n_class, activation='softmax'))\n",
    "    \"\"\"\n",
    "    \n",
    "    def __init__(self, **kwargs):\n",
    "        super().__init__(**kwargs)\n",
    "        \n",
    "    def build(self, input_shape):\n",
    "        time_step = input_shape[1]\n",
    "        self.dense_1 = layers.Dense(time_step, activation='softmax')\n",
    "        super().build(tf.TensorShape(input_shape))\n",
    "        \n",
    "    def call(self, x):\n",
    "        # a workaround for having batch_size equals to None, during the building phase\n",
    "        input_shape = tf.TensorShape(x.shape)\n",
    "        batch_size, flatten_feature_dim = input_shape[0], input_shape[1:].num_elements()\n",
    "        alpha = self.dense_1(tf.reshape(x, (batch_size or -1, flatten_feature_dim)))  # [batch_size, time_step]\n",
    "        alpha = tf.expand_dims(alpha, -1)\n",
    "        \n",
    "        context_vector = tf.reduce_sum(tf.multiply(alpha, x), axis=1) \n",
    "        \n",
    "        # concatenate the context vector with the last output from previous layer\n",
    "        output_vector = layers.Concatenate()([context_vector, x[:, -1, :]])\n",
    "        return output_vector\n",
    "    \n",
    "    def compute_output_shape(self, input_shape):\n",
    "        return input_shape[0], input_shape[-1]"
   ]
  },
  {
   "cell_type": "code",
   "execution_count": 235,
   "metadata": {},
   "outputs": [],
   "source": [
    "# build two LSTM, one w/ and one w/o attention\n",
    "from tensorflow.keras.layers import LSTM, Bidirectional, Dense, Embedding\n",
    "from tensorflow.keras.models import Sequential\n",
    "from tensorflow.keras.optimizers import Adam\n",
    "from tensorflow.keras.losses import CategoricalCrossentropy\n",
    "\n",
    "plain_lstm = Sequential([\n",
    "    Embedding(5000, 20, input_length=100),  # 5000 is the vocab_size\n",
    "    LSTM(10),\n",
    "    Dense(2, activation='softmax')\n",
    "])\n",
    "\n",
    "attn_lstm = Sequential([\n",
    "    Embedding(5000, 20, input_length=100),\n",
    "    LSTM(10, return_sequences=True),\n",
    "    Attention(),\n",
    "    Dense(2, activation='softmax')\n",
    "])\n",
    "\n",
    "plain_lstm.compile(optimizer=Adam(), \n",
    "                   loss=CategoricalCrossentropy(from_logits=True), \n",
    "                   metrics=['accuracy'])\n",
    "\n",
    "attn_lstm.compile(optimizer=Adam(), \n",
    "                   loss=CategoricalCrossentropy(from_logits=True), \n",
    "                   metrics=['accuracy'])"
   ]
  },
  {
   "cell_type": "code",
   "execution_count": null,
   "metadata": {},
   "outputs": [],
   "source": []
  },
  {
   "cell_type": "markdown",
   "metadata": {},
   "source": [
    "### Test on the IMDB dataset"
   ]
  },
  {
   "cell_type": "code",
   "execution_count": 135,
   "metadata": {},
   "outputs": [],
   "source": [
    "import sys\n",
    "sys.path.append('../')\n",
    "\n",
    "from utils.datasets import create_imdb_dataset\n",
    "from utils.plotting import *"
   ]
  },
  {
   "cell_type": "code",
   "execution_count": null,
   "metadata": {},
   "outputs": [
    {
     "name": "stdout",
     "output_type": "stream",
     "text": [
      "Epoch 1/5\n",
      "667/782 [========================>.....] - ETA: 5s - loss: 0.5459 - accuracy: 0.7606"
     ]
    }
   ],
   "source": [
    "plain_history = plain_lstm.fit(train_dataset, epochs=5, validation_data=test_dataset)"
   ]
  },
  {
   "cell_type": "code",
   "execution_count": null,
   "metadata": {},
   "outputs": [],
   "source": [
    "plot_training_history(plain_history, keyword='accuracy')"
   ]
  },
  {
   "cell_type": "code",
   "execution_count": null,
   "metadata": {},
   "outputs": [],
   "source": []
  },
  {
   "cell_type": "code",
   "execution_count": 236,
   "metadata": {},
   "outputs": [
    {
     "name": "stdout",
     "output_type": "stream",
     "text": [
      "Epoch 1/10\n",
      "782/782 [==============================] - 49s 63ms/step - loss: 0.5160 - accuracy: 0.7887 - val_loss: 0.4639 - val_accuracy: 0.8443\n",
      "Epoch 2/10\n",
      "782/782 [==============================] - 47s 60ms/step - loss: 0.4374 - accuracy: 0.8716 - val_loss: 0.4662 - val_accuracy: 0.8394\n",
      "Epoch 3/10\n",
      "782/782 [==============================] - 39s 50ms/step - loss: 0.4203 - accuracy: 0.8907 - val_loss: 0.4660 - val_accuracy: 0.8398\n",
      "Epoch 4/10\n",
      "782/782 [==============================] - 43s 55ms/step - loss: 0.4112 - accuracy: 0.9001 - val_loss: 0.4653 - val_accuracy: 0.8418\n",
      "Epoch 5/10\n",
      "782/782 [==============================] - 40s 51ms/step - loss: 0.4047 - accuracy: 0.9069 - val_loss: 0.4663 - val_accuracy: 0.8412\n",
      "Epoch 6/10\n",
      "782/782 [==============================] - 40s 51ms/step - loss: 0.3955 - accuracy: 0.9171 - val_loss: 0.4682 - val_accuracy: 0.8381\n",
      "Epoch 7/10\n",
      "782/782 [==============================] - 39s 50ms/step - loss: 0.3911 - accuracy: 0.9212 - val_loss: 0.4661 - val_accuracy: 0.8399\n",
      "Epoch 8/10\n",
      "782/782 [==============================] - 39s 49ms/step - loss: 0.3852 - accuracy: 0.9286 - val_loss: 0.4686 - val_accuracy: 0.8383\n",
      "Epoch 9/10\n",
      "782/782 [==============================] - 39s 49ms/step - loss: 0.3855 - accuracy: 0.9282 - val_loss: 0.4716 - val_accuracy: 0.8356\n",
      "Epoch 10/10\n",
      "782/782 [==============================] - 44s 57ms/step - loss: 0.3799 - accuracy: 0.9331 - val_loss: 0.4696 - val_accuracy: 0.8365\n"
     ]
    }
   ],
   "source": [
    "attn_history = attn_lstm.fit(train_dataset, epochs=10, validation_data=test_dataset)"
   ]
  },
  {
   "cell_type": "code",
   "execution_count": 239,
   "metadata": {},
   "outputs": [
    {
     "data": {
      "image/png": "[encoded data removed]",
      "text/plain": [
       "<Figure size 720x576 with 1 Axes>"
      ]
     },
     "metadata": {
      "needs_background": "light"
     },
     "output_type": "display_data"
    }
   ],
   "source": [
    "plot_training_history(attn_history, keyword='accuracy')"
   ]
  },
  {
   "cell_type": "code",
   "execution_count": null,
   "metadata": {},
   "outputs": [],
   "source": []
  },
  {
   "cell_type": "code",
   "execution_count": null,
   "metadata": {},
   "outputs": [],
   "source": []
  },
  {
   "cell_type": "code",
   "execution_count": null,
   "metadata": {},
   "outputs": [],
   "source": []
  },
  {
   "cell_type": "code",
   "execution_count": 119,
   "metadata": {},
   "outputs": [
    {
     "data": {
      "text/plain": [
       "TensorShape([32, 50, 40])"
      ]
     },
     "execution_count": 119,
     "metadata": {},
     "output_type": "execute_result"
    }
   ],
   "source": [
    "from tensorflow import keras\n",
    "from tensorflow.keras.layers import LSTM\n",
    "\n",
    "import numpy as np\n",
    "\n",
    "sample = np.random.random((32, 50, 10)).astype('float32')\n",
    "output = layers.Bidirectional(LSTM(units=20, return_sequences=True, return_state=False))(sample)\n",
    "\n",
    "# for idx, o in enumerate(output):\n",
    "#     print(idx, o.shape)\n",
    "output.shape"
   ]
  },
  {
   "cell_type": "code",
   "execution_count": null,
   "metadata": {},
   "outputs": [],
   "source": []
  },
  {
   "cell_type": "code",
   "execution_count": null,
   "metadata": {},
   "outputs": [],
   "source": []
  }
 ],
 "metadata": {
  "kernelspec": {
   "display_name": "Environment (conda_dl)",
   "language": "python",
   "name": "conda_dl"
  }
 },
 "nbformat": 4,
 "nbformat_minor": 2
}
