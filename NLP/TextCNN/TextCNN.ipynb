{
 "cells": [
  {
   "cell_type": "code",
   "execution_count": 1,
   "metadata": {},
   "outputs": [
    {
     "name": "stderr",
     "output_type": "stream",
     "text": [
      "/anaconda3/lib/python3.6/site-packages/h5py/__init__.py:36: FutureWarning: Conversion of the second argument of issubdtype from `float` to `np.floating` is deprecated. In future, it will be treated as `np.float64 == np.dtype(float).type`.\n",
      "  from ._conv import register_converters as _register_converters\n"
     ]
    },
    {
     "data": {
      "text/plain": [
       "'2.0.0-alpha0'"
      ]
     },
     "execution_count": 1,
     "metadata": {},
     "output_type": "execute_result"
    }
   ],
   "source": [
    "import tensorflow as tf\n",
    "tf.__version__"
   ]
  },
  {
   "cell_type": "code",
   "execution_count": 2,
   "metadata": {},
   "outputs": [],
   "source": [
    "from tensorflow import keras\n",
    "from tensorflow.keras.layers import Dense, Softmax, Conv1D, GlobalMaxPool1D, Embedding\n",
    "from tensorflow.keras.layers import Dropout, Concatenate, Softmax"
   ]
  },
  {
   "cell_type": "code",
   "execution_count": 3,
   "metadata": {},
   "outputs": [],
   "source": [
    "class TextCNN(keras.Model):\n",
    "    \n",
    "    def __init__(self, max_len=100, vocab_size=5000, embed_size=128, \n",
    "                 kernel_size=None, filters=128, n_class=2, **kwargs):\n",
    "        super().__init__(**kwargs)\n",
    "        self.max_len = max_len\n",
    "        self.vocab_size = vocab_size\n",
    "        self.embed_size = embed_size\n",
    "        self.n_class = n_class\n",
    "        self.kernel_size = kernel_size or [3, 4, 5]\n",
    "        # Number of filters for each kernel size\n",
    "        self.filters = filters\n",
    "    \n",
    "        self.embedding = Embedding(self.vocab_size, self.embed_size, input_length=self.max_len)\n",
    "        self.dense = Dense(self.n_class, activation='softmax')\n",
    "        \n",
    "    def multisize_conv(self, X):\n",
    "        \"\"\" Performs a Conv1D operation on the embedding with different kernel sizes,\n",
    "            and concatenate the result.\n",
    "        \"\"\"\n",
    "        output = []\n",
    "        \n",
    "        for kernel_size in self.kernel_size:\n",
    "            conv = Conv1D(self.filters, kernel_size, activation='relu')\n",
    "            setattr(self, 'conv1d_{}'.format(kernel_size), conv)\n",
    "            x = conv(X)  # [batch_size, max_len - kernel_size, filters]\n",
    "            x = GlobalMaxPool1D()(x)  # [batch_size, filters]\n",
    "            output.append(x)\n",
    "    \n",
    "        return keras.layers.concatenate(output)  # [batch_size, filters * number of kernels]\n",
    "    \n",
    "    def call(self, X):\n",
    "        x = self.embedding(X)\n",
    "        x = self.multisize_conv(x)\n",
    "        output = self.dense(x)\n",
    "        return output"
   ]
  },
  {
   "cell_type": "code",
   "execution_count": null,
   "metadata": {},
   "outputs": [],
   "source": []
  },
  {
   "cell_type": "code",
   "execution_count": null,
   "metadata": {},
   "outputs": [],
   "source": []
  },
  {
   "cell_type": "markdown",
   "metadata": {},
   "source": [
    "# Test the model against the IMDB dataset"
   ]
  },
  {
   "cell_type": "code",
   "execution_count": 4,
   "metadata": {},
   "outputs": [],
   "source": [
    "import sys\n",
    "sys.path.append('../')\n",
    "\n",
    "from utils.datasets import create_imdb_dataset"
   ]
  },
  {
   "cell_type": "code",
   "execution_count": 5,
   "metadata": {},
   "outputs": [],
   "source": [
    "N_VOCAB = 5000\n",
    "MAX_LEN = 100\n",
    "BATCH_SIZE = 32\n",
    "EMBED_SIZE = 128\n",
    "\n",
    "train_dataset, test_dataset = create_imdb_dataset(n_vocab=N_VOCAB,\n",
    "                                                 max_len=MAX_LEN,\n",
    "                                                 batch_size=BATCH_SIZE)"
   ]
  },
  {
   "cell_type": "code",
   "execution_count": 17,
   "metadata": {},
   "outputs": [],
   "source": [
    "from tensorflow.keras.losses import CategoricalCrossentropy\n",
    "from tensorflow.keras.optimizers import Adam\n",
    "\n",
    "textCNN = TextCNN(max_len=MAX_LEN,\n",
    "                 vocab_size=N_VOCAB,\n",
    "                 embed_size=EMBED_SIZE)\n",
    "\n",
    "textCNN.compile(optimizer=Adam(), \n",
    "                loss=CategoricalCrossentropy(from_logits=True), \n",
    "                metrics=['accuracy'])"
   ]
  },
  {
   "cell_type": "code",
   "execution_count": 18,
   "metadata": {},
   "outputs": [
    {
     "name": "stdout",
     "output_type": "stream",
     "text": [
      "Epoch 1/10\n",
      "782/782 [==============================] - 41s 53ms/step - loss: 0.5658 - accuracy: 0.6825 - val_loss: 0.4872 - val_accuracy: 0.8328\n",
      "Epoch 2/10\n",
      "782/782 [==============================] - 23s 29ms/step - loss: 0.4483 - accuracy: 0.8570 - val_loss: 0.4606 - val_accuracy: 0.8549\n",
      "Epoch 3/10\n",
      "782/782 [==============================] - 22s 28ms/step - loss: 0.3959 - accuracy: 0.9242 - val_loss: 0.4516 - val_accuracy: 0.8606\n",
      "Epoch 4/10\n",
      "782/782 [==============================] - 23s 29ms/step - loss: 0.3607 - accuracy: 0.9622 - val_loss: 0.4471 - val_accuracy: 0.8627\n",
      "Epoch 5/10\n",
      "782/782 [==============================] - 26s 34ms/step - loss: 0.3404 - accuracy: 0.9798 - val_loss: 0.4450 - val_accuracy: 0.8615\n",
      "Epoch 6/10\n",
      "782/782 [==============================] - 22s 28ms/step - loss: 0.3302 - accuracy: 0.9874 - val_loss: 0.4434 - val_accuracy: 0.8636\n",
      "Epoch 7/10\n",
      "782/782 [==============================] - 21s 27ms/step - loss: 0.3247 - accuracy: 0.9922 - val_loss: 0.4422 - val_accuracy: 0.8650\n",
      "Epoch 8/10\n",
      "782/782 [==============================] - 21s 27ms/step - loss: 0.3217 - accuracy: 0.9940 - val_loss: 0.4418 - val_accuracy: 0.8650\n",
      "Epoch 9/10\n",
      "782/782 [==============================] - 25s 32ms/step - loss: 0.3198 - accuracy: 0.9953 - val_loss: 0.4415 - val_accuracy: 0.8634\n",
      "Epoch 10/10\n",
      "782/782 [==============================] - 20s 26ms/step - loss: 0.3190 - accuracy: 0.9957 - val_loss: 0.4415 - val_accuracy: 0.8637\n"
     ]
    }
   ],
   "source": [
    "# train the model for 10 epoches\n",
    "history = textCNN.fit(train_dataset, epochs=10, validation_data=test_dataset)"
   ]
  },
  {
   "cell_type": "code",
   "execution_count": 41,
   "metadata": {},
   "outputs": [],
   "source": []
  },
  {
   "cell_type": "code",
   "execution_count": 45,
   "metadata": {},
   "outputs": [],
   "source": [
    "# plot the training information\n",
    "from utils.plotting import plot_training_history"
   ]
  },
  {
   "cell_type": "code",
   "execution_count": 46,
   "metadata": {},
   "outputs": [
    {
     "data": {
      "image/png": "[encoded data removed]",
      "text/plain": [
       "<Figure size 720x576 with 1 Axes>"
      ]
     },
     "metadata": {},
     "output_type": "display_data"
    }
   ],
   "source": [
    "plot_training_history(history, keyword='loss')"
   ]
  },
  {
   "cell_type": "code",
   "execution_count": 47,
   "metadata": {},
   "outputs": [
    {
     "data": {
      "image/png": "[encoded data removed]",
      "text/plain": [
       "<Figure size 720x576 with 1 Axes>"
      ]
     },
     "metadata": {},
     "output_type": "display_data"
    }
   ],
   "source": [
    "plot_training_history(history, keyword='accuracy')"
   ]
  }
 ],
 "metadata": {
  "kernelspec": {
   "display_name": "Python 3",
   "language": "python",
   "name": "python3"
  },
  "language_info": {
   "codemirror_mode": {
    "name": "ipython",
    "version": 3
   },
   "file_extension": ".py",
   "mimetype": "text/x-python",
   "name": "python",
   "nbconvert_exporter": "python",
   "pygments_lexer": "ipython3",
   "version": "3.6.5"
  }
 },
 "nbformat": 4,
 "nbformat_minor": 2
}
